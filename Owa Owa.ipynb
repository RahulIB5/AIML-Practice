{
 "cells": [
  {
   "cell_type": "code",
   "execution_count": null,
   "id": "feb27ff9-b928-41eb-8520-3bee6b064701",
   "metadata": {},
   "outputs": [
    {
     "name": "stdout",
     "output_type": "stream",
     "text": [
      "How's it Owa Owa\n"
     ]
    }
   ],
   "source": [
    "text = \"Owa Owa\"\n",
    "print(f\"How's it {text}\")"
   ]
  },
  {
   "cell_type": "code",
   "execution_count": null,
   "id": "f75ba23c-b211-4ea6-a34c-8cef5e06f6d4",
   "metadata": {},
   "outputs": [],
   "source": []
  }
 ],
 "metadata": {
  "kernelspec": {
   "display_name": "Python 3",
   "language": "python",
   "name": "python3"
  },
  "language_info": {
   "codemirror_mode": {
    "name": "ipython",
    "version": 3
   },
   "file_extension": ".py",
   "mimetype": "text/x-python",
   "name": "python",
   "nbconvert_exporter": "python",
   "pygments_lexer": "ipython3",
   "version": "3.12.2"
  }
 },
 "nbformat": 4,
 "nbformat_minor": 5
}
